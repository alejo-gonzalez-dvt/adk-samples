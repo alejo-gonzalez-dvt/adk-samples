{
 "cells": [
  {
   "cell_type": "markdown",
   "id": "9a3c822c",
   "metadata": {},
   "source": [
    "# Linux\n",
    "python3 -m venv myenv  # Create a virtual environment\n",
    "source myenv/bin/activate # Activate the virtual environment"
   ]
  },
  {
   "cell_type": "code",
   "execution_count": 3,
   "id": "1e55e3f8",
   "metadata": {},
   "outputs": [],
   "source": [
    "# !pip install google-adk"
   ]
  },
  {
   "cell_type": "code",
   "execution_count": null,
   "id": "6610f78b",
   "metadata": {},
   "outputs": [],
   "source": []
  }
 ],
 "metadata": {
  "kernelspec": {
   "display_name": ".GO-langgraph",
   "language": "python",
   "name": "python3"
  },
  "language_info": {
   "codemirror_mode": {
    "name": "ipython",
    "version": 3
   },
   "file_extension": ".py",
   "mimetype": "text/x-python",
   "name": "python",
   "nbconvert_exporter": "python",
   "pygments_lexer": "ipython3",
   "version": "3.11.9"
  }
 },
 "nbformat": 4,
 "nbformat_minor": 5
}
